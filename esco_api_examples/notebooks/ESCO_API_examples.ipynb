{
 "cells": [
  {
   "cell_type": "markdown",
   "metadata": {},
   "source": [
    "# Examples of using ESCO API"
   ]
  },
  {
   "cell_type": "code",
   "execution_count": 2,
   "metadata": {},
   "outputs": [],
   "source": [
    "import pandas as pd\n",
    "import numpy as np\n",
    "import seaborn as sns\n",
    "from matplotlib import pyplot as plt\n",
    "from tqdm.notebook import tqdm\n",
    "\n",
    "import pickle\n",
    "import requests"
   ]
  },
  {
   "cell_type": "markdown",
   "metadata": {},
   "source": [
    "# 1. Getting data on an occupation"
   ]
  },
  {
   "cell_type": "code",
   "execution_count": 5,
   "metadata": {},
   "outputs": [
    {
     "name": "stdout",
     "output_type": "stream",
     "text": [
      "Broader occupation: chemical engineering technician\n",
      "----\n",
      "chemical manufacturing quality technician\n",
      "hazardous waste technician\n",
      "colour sampling technician\n",
      "asphalt laboratory technician\n"
     ]
    }
   ],
   "source": [
    "# Example call to get 'chemical engineering technician'\n",
    "link = 'https://ec.europa.eu/esco/api/resource/occupation?uri=http://data.europa.eu/esco/occupation/35bc3847-58ad-46f5-8921-e58acc2762a6'\n",
    "req_occupation = requests.get(link).json()\n",
    "\n",
    "print(f\"Broader occupation: {req_occupation['title']}\")\n",
    "print('----')\n",
    "\n",
    "# Check the narrower occupations under 'chemical engineering technician'\n",
    "link_dict = req_occupation['_links']\n",
    "for occ in link_dict['narrowerOccupation']:\n",
    "    print(occ['title'])\n"
   ]
  },
  {
   "cell_type": "code",
   "execution_count": 10,
   "metadata": {},
   "outputs": [
    {
     "data": {
      "text/plain": [
       "['use ICT systems',\n",
       " 'test chemical samples',\n",
       " 'engineering processes',\n",
       " 'laboratory techniques',\n",
       " 'work safely with chemicals',\n",
       " 'risk management',\n",
       " 'collaborate with engineers',\n",
       " 'calibrate laboratory equipment',\n",
       " 'engineering principles',\n",
       " 'perform laboratory tests',\n",
       " 'perform product testing',\n",
       " 'determine production feasibility',\n",
       " 'translate formulae into processes',\n",
       " 'production processes',\n",
       " 'chemistry',\n",
       " 'analyse experimental laboratory data',\n",
       " 'prepare chemical samples',\n",
       " 'apply safety procedures in laboratory',\n",
       " 'ensure compliance with environmental legislation',\n",
       " 'execute analytical mathematical calculations',\n",
       " 'quality assurance methodologies',\n",
       " 'run laboratory simulations']"
      ]
     },
     "execution_count": 10,
     "metadata": {},
     "output_type": "execute_result"
    }
   ],
   "source": [
    "# Check the essential skills of 'chemical engineering technician'\n",
    "[s['title'] for s in req_occupation['_links']['hasEssentialSkill']]"
   ]
  },
  {
   "cell_type": "code",
   "execution_count": 11,
   "metadata": {},
   "outputs": [
    {
     "data": {
      "text/plain": [
       "['recommend product improvements',\n",
       " 'analytical chemistry',\n",
       " 'manage health and safety standards',\n",
       " 'maintain laboratory equipment',\n",
       " 'recognise signs of corrosion',\n",
       " 'analyse production processes for improvement',\n",
       " 'keep records of work progress',\n",
       " 'maintain chromotography machinery',\n",
       " 'identify hazards in the workplace',\n",
       " 'nuclear reprocessing',\n",
       " 'use chromatography software',\n",
       " 'hazardous waste types',\n",
       " 'energy efficiency',\n",
       " 'schedule production',\n",
       " 'control production',\n",
       " 'maintain nuclear reactors',\n",
       " 'corrosion types',\n",
       " 'write batch record documentation',\n",
       " 'communicate with external laboratories',\n",
       " 'archive scientific documentation',\n",
       " 'set production facilities standards',\n",
       " 'radiation protection',\n",
       " 'inorganic chemistry',\n",
       " 'dispose of hazardous waste',\n",
       " 'hazardous waste storage',\n",
       " 'nuclear energy',\n",
       " 'supervise laboratory operations']"
      ]
     },
     "execution_count": 11,
     "metadata": {},
     "output_type": "execute_result"
    }
   ],
   "source": [
    "# Check the optional skills of 'chemical engineering technician'\n",
    "[s['title'] for s in req_occupation['_links']['hasOptionalSkill']]"
   ]
  },
  {
   "cell_type": "markdown",
   "metadata": {},
   "source": [
    "# 2. Getting data on a skill"
   ]
  },
  {
   "cell_type": "code",
   "execution_count": 14,
   "metadata": {},
   "outputs": [],
   "source": [
    "# Get data on 'identify hazards in the workplace'\n",
    "skill_link = req_occupation['_links']['hasOptionalSkill'][8]['href']\n",
    "req_skill = requests.get(skill_link).json()"
   ]
  },
  {
   "cell_type": "code",
   "execution_count": 22,
   "metadata": {},
   "outputs": [
    {
     "name": "stdout",
     "output_type": "stream",
     "text": [
      "identify hazards in the workplace\n",
      "----\n",
      "Perform safety audits and inspections on workplaces and workplace equipment. Ensure that they meet safety regulations and identify hazards and risks.\n"
     ]
    }
   ],
   "source": [
    "print(req_skill['title'])\n",
    "print('----')\n",
    "print(req_skill['description']['en']['literal'])"
   ]
  },
  {
   "cell_type": "code",
   "execution_count": 25,
   "metadata": {},
   "outputs": [
    {
     "data": {
      "text/plain": [
       "['welding coordinator',\n",
       " 'crosscut saw operator',\n",
       " 'food safety inspector',\n",
       " 'occupational health and safety inspector',\n",
       " 'welding inspector',\n",
       " 'railway infrastructure inspector',\n",
       " 'metal production supervisor',\n",
       " 'food production manager',\n",
       " 'agricultural inspector',\n",
       " 'steam turbine operator']"
      ]
     },
     "execution_count": 25,
     "metadata": {},
     "output_type": "execute_result"
    }
   ],
   "source": [
    "# Check occupations for which this is an essential skill\n",
    "[o['title'] for o in req_skill['_links']['isEssentialForOccupation']]"
   ]
  },
  {
   "cell_type": "code",
   "execution_count": null,
   "metadata": {},
   "outputs": [],
   "source": []
  }
 ],
 "metadata": {
  "kernelspec": {
   "display_name": "Python 3",
   "language": "python",
   "name": "python3"
  },
  "language_info": {
   "codemirror_mode": {
    "name": "ipython",
    "version": 3
   },
   "file_extension": ".py",
   "mimetype": "text/x-python",
   "name": "python",
   "nbconvert_exporter": "python",
   "pygments_lexer": "ipython3",
   "version": "3.6.5"
  }
 },
 "nbformat": 4,
 "nbformat_minor": 4
}
